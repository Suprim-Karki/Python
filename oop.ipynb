{
 "cells": [
  {
   "cell_type": "code",
   "execution_count": null,
   "id": "0a49ae38",
   "metadata": {},
   "outputs": [
    {
     "name": "stdout",
     "output_type": "stream",
     "text": [
      "50.0\n",
      "None\n",
      "30.0\n",
      "None\n",
      "Thor\n",
      "Hi\n",
      "None\n"
     ]
    }
   ],
   "source": [
    "'''Class and Objects\n",
    "__init__ function is also called constructor\n",
    "self points at itself(object)\n",
    "function inside class ika methods\n",
    "data inside class ika attributes eg. name, marks, etc\n",
    "\n",
    "Static methods(not using self) use @staticmethod\n",
    "\n",
    "Abstraction (hiding the implementation details of the class and showing only useful things to user)\n",
    "Encapsulation (wrapping data and functions into single unit (object)\n",
    "Inheritance\n",
    "Polymorphism\n",
    "'''\n",
    "\n",
    "class Student:\n",
    "    college=\"TWC\"\n",
    "    name=\"Unknown\" #Lower preferance\n",
    "    def __init__(self,name,marks):\n",
    "        self.name=name  #Higher preferance\n",
    "        self.marks=marks\n",
    "\n",
    "    def hello(self):\n",
    "        print(\"Hello\",self.name)\n",
    "\n",
    "    @staticmethod\n",
    "    def hi():\n",
    "        print(\"Hi\")\n",
    "\n",
    "    def get_average(self):\n",
    "        sum=0\n",
    "        for mark in self.marks:\n",
    "            sum+=mark\n",
    "        print(sum/len(self.marks))\n",
    "\n",
    "s1=Student(\"Suprim\",[52,48,50])\n",
    "s2=Student(\"Karki\",[30,31,29])\n",
    "# # print(s1.name,end=\" \"+s2.name)\n",
    "# # print(s1.marks,end=\" \"+str(s2.marks))\n",
    "# # print(s2.college)\n",
    "# # print(Student.college)\n",
    "# # print(s1.hello())\n",
    "# print(s1.get_average())\n",
    "# print(s2.get_average())\n",
    "# s2.name=\"Thor\"\n",
    "# print(s2.name)\n",
    "# print(s1.hi())"
   ]
  },
  {
   "cell_type": "code",
   "execution_count": 10,
   "id": "40390055",
   "metadata": {},
   "outputs": [
    {
     "name": "stdout",
     "output_type": "stream",
     "text": [
      "Successfully debited\n",
      "Your balamce is: 200 with accno 12345\n"
     ]
    }
   ],
   "source": [
    "'''\n",
    "Create an Account class with 2 attributes - balance and account no.\n",
    "Create methods for debit, credit and printing the balance\n",
    "'''\n",
    "\n",
    "class Account():\n",
    "    def __init__(self,balance,accno):\n",
    "        self.balance=balance\n",
    "        self.accno=accno\n",
    "\n",
    "    def blc(self):\n",
    "        print(f\"Your balamce is: {self.balance} with accno {self.accno}\")\n",
    "    \n",
    "    def debit(self,amt):\n",
    "        self.balance-=amt\n",
    "        print(\"Successfully debited\")\n",
    "        self.blc()\n",
    "    \n",
    "    def credit(self,amt):\n",
    "        self.balance+=amt\n",
    "        print(\"Successfully credited\")\n",
    "        self.blc()\n",
    "\n",
    "a1=Account(500,12345)\n",
    "a1.debit(300)\n"
   ]
  },
  {
   "cell_type": "markdown",
   "id": "c6aa9ca6",
   "metadata": {},
   "source": [
    "To delete an object use (del s1) or (del s1.name) "
   ]
  },
  {
   "cell_type": "code",
   "execution_count": null,
   "id": "0aa8193c",
   "metadata": {},
   "outputs": [
    {
     "name": "stdout",
     "output_type": "stream",
     "text": [
      "1234\n"
     ]
    },
    {
     "ename": "AttributeError",
     "evalue": "'Account' object has no attribute '__password'",
     "output_type": "error",
     "traceback": [
      "\u001b[31m---------------------------------------------------------------------------\u001b[39m",
      "\u001b[31mAttributeError\u001b[39m                            Traceback (most recent call last)",
      "\u001b[36mCell\u001b[39m\u001b[36m \u001b[39m\u001b[32mIn[15]\u001b[39m\u001b[32m, line 18\u001b[39m\n\u001b[32m     16\u001b[39m a1=Account(\u001b[33m\"\u001b[39m\u001b[33m1234\u001b[39m\u001b[33m\"\u001b[39m,\u001b[33m\"\u001b[39m\u001b[33mabcd\u001b[39m\u001b[33m\"\u001b[39m)\n\u001b[32m     17\u001b[39m \u001b[38;5;28mprint\u001b[39m(a1.acc)\n\u001b[32m---> \u001b[39m\u001b[32m18\u001b[39m \u001b[38;5;28mprint\u001b[39m(\u001b[43ma1\u001b[49m\u001b[43m.\u001b[49m\u001b[43m__password\u001b[49m)\n\u001b[32m     19\u001b[39m a1.show_pw()\n",
      "\u001b[31mAttributeError\u001b[39m: 'Account' object has no attribute '__password'"
     ]
    }
   ],
   "source": [
    "'''\n",
    "Private (like) attributes and methods \n",
    "They are only used inside class and isn't accessible outside\n",
    "Can be used to make info like account no password private\n",
    "\n",
    "Use __ after self eg (self__pasword)\n",
    "can be used on functions too\n",
    "'''\n",
    "\n",
    "class Account:\n",
    "    def __init__(self,acc,password):\n",
    "        self.acc=acc\n",
    "        self.__password=password\n",
    "    def show_pw(self):\n",
    "        print(self.__password)\n",
    "\n",
    "a1=Account(\"1234\",\"abcd\")\n",
    "print(a1.acc)\n",
    "print(a1.password)  #does not show pw\n",
    "a1.show_pw()    #shows pw\n"
   ]
  },
  {
   "cell_type": "code",
   "execution_count": null,
   "id": "88529ff4",
   "metadata": {},
   "outputs": [
    {
     "name": "stdout",
     "output_type": "stream",
     "text": [
      "Fortuner\n",
      "Started\n",
      "None\n",
      "black\n"
     ]
    }
   ],
   "source": [
    "'''Inheritance = when one class(child) inherits the property of another class(parent)\n",
    "'''\n",
    "class Car:\n",
    "    color=\"black\"\n",
    "    def start(self):\n",
    "        print(\"Started\")\n",
    "    def stop(self):\n",
    "        print(\"Stopped\")\n",
    "\n",
    "class ToyotaCar(Car):\n",
    "    def __init__(self,brand):\n",
    "        self.brand=brand\n",
    "\n",
    "# c1=ToyotaCar(\"Fortuner\")\n",
    "# c2=ToyotaCar(\"Nissan\")\n",
    "# print(c1.brand)\n",
    "# print(c1.start())\n",
    "\n",
    "'''Below is multi-level inheritance where Fortuner has inherited properties of both Car and ToyotaCar classes'''\n",
    "class Fortuner(ToyotaCar):\n",
    "    def __init__(self,type):\n",
    "        self.type=type\n"
   ]
  },
  {
   "cell_type": "code",
   "execution_count": 19,
   "id": "e6b57a75",
   "metadata": {},
   "outputs": [
    {
     "name": "stdout",
     "output_type": "stream",
     "text": [
      "Class C\n",
      "Class A\n"
     ]
    }
   ],
   "source": [
    "'''Multiple inheritance\n",
    "Here a child class inherits properties of multiple parent classes\n",
    "'''\n",
    "\n",
    "class A:\n",
    "    varA=\"Class A\"\n",
    "class B:\n",
    "    varB=\"Class B\"\n",
    "class C(A,B):\n",
    "    varC=\"Class C\"\n",
    "c1=C()\n",
    "print(c1.varC)\n",
    "print(c1.varA)\n"
   ]
  },
  {
   "cell_type": "code",
   "execution_count": null,
   "id": "16f18880",
   "metadata": {},
   "outputs": [
    {
     "name": "stdout",
     "output_type": "stream",
     "text": [
      "Started\n",
      "Pirus\n",
      "Electric\n"
     ]
    }
   ],
   "source": [
    "'''Super() keyword\n",
    "super means parents\n",
    "'''\n",
    "\n",
    "class Car:\n",
    "    def __init__(self,type):\n",
    "        self.type=type\n",
    "    def start(self):\n",
    "        print(\"Started\")\n",
    "    def stop(self):\n",
    "        print(\"Stopped\")\n",
    "\n",
    "class ToyotaCar(Car):\n",
    "    def __init__(self,name,type):\n",
    "        self.name=name\n",
    "        super().__init__(type) #To call methods of parent class\n",
    "        super().start()\n",
    "\n",
    "c1=ToyotaCar(\"Pirus\",\"Electric\")\n",
    "print(c1.name)\n",
    "print(c1.type)"
   ]
  },
  {
   "cell_type": "code",
   "execution_count": null,
   "id": "9f01a8c5",
   "metadata": {},
   "outputs": [
    {
     "name": "stdout",
     "output_type": "stream",
     "text": [
      "Suprim\n",
      "Unknown\n"
     ]
    }
   ],
   "source": [
    "'''classmethod is used to change value of a variable in the class itself rather then the object'''\n",
    "\n",
    "'''This doesn't change the value in the class \n",
    "You can use Student.name=name or self.__class__.name = name instead of self.name=name \n",
    "to make it changeble, it is alternative of using class method\n",
    "'''\n",
    "# class Student:\n",
    "#     name=\"Unknown\"\n",
    "#     def change_name(self,name):\n",
    "#         self.name=name        \n",
    "# s1=Student()\n",
    "# s1.change_name(\"Suprim\")\n",
    "# print(s1.name)\n",
    "# print(Student.name)\n",
    "\n",
    "'''Using classmethod'''\n",
    "class Student:\n",
    "    name=\"Unknown\"\n",
    "    \n",
    "    @classmethod\n",
    "    def change_name(self,name):\n",
    "        self.name=name        \n",
    "s1=Student()\n",
    "s1.change_name(\"Suprim\")\n",
    "print(s1.name)\n",
    "print(Student.name)\n",
    "\n",
    "\n"
   ]
  },
  {
   "cell_type": "code",
   "execution_count": 32,
   "id": "31528425",
   "metadata": {},
   "outputs": [
    {
     "name": "stdout",
     "output_type": "stream",
     "text": [
      "50.0%\n",
      "66.66666666666667%\n"
     ]
    }
   ],
   "source": [
    "'''@property decorator \n",
    "This is used when a variable changes the value also changes\n",
    "Eg when marks changes, the percentage changes\n",
    "'''\n",
    "\n",
    "class Std:\n",
    "    def __init__(self,phy,chem,math):\n",
    "        self.phy=phy\n",
    "        self.chem=chem\n",
    "        self.math=math\n",
    "    \n",
    "    @property\n",
    "    def percentage(self):\n",
    "        return str((self.phy+self.chem+self.math)/3)+\"%\"\n",
    "s1=Std(50,50,50)\n",
    "print(s1.percentage)\n",
    "s1.phy=100\n",
    "print(s1.percentage)"
   ]
  },
  {
   "cell_type": "markdown",
   "id": "7ace4628",
   "metadata": {},
   "source": [
    "Polymorphism (operator overloading):\n",
    "    When same operator is allowed to have difn meaning according to context\n"
   ]
  },
  {
   "cell_type": "code",
   "execution_count": 39,
   "id": "2cfd4388",
   "metadata": {},
   "outputs": [
    {
     "name": "stdout",
     "output_type": "stream",
     "text": [
      "8 i +  8 j\n",
      "None\n",
      "2 i +  -2 j\n",
      "None\n"
     ]
    }
   ],
   "source": [
    "'''functions written as __funcname__ are called dunder functions '''\n",
    "\n",
    "class Complex:\n",
    "    def __init__(self,real,imaginary):\n",
    "        self.real=real\n",
    "        self.imaginary=imaginary\n",
    "\n",
    "    def shownumber(self):\n",
    "        print(self.real,\"i + \",self.imaginary,\"j\")\n",
    "    \n",
    "    def __add__(self,num2):\n",
    "        newReal=self.real+num2.real\n",
    "        newImaginary=self.imaginary+num2.imaginary\n",
    "        return Complex(newReal,newImaginary)\n",
    "    def __sub__(self,num2):\n",
    "        newReal=self.real-num2.real\n",
    "        newImaginary=self.imaginary-num2.imaginary\n",
    "        return Complex(newReal,newImaginary)\n",
    "    \n",
    "c1=Complex(5,3)\n",
    "c2=Complex(3,5)\n",
    "\n",
    "c3=c1+c2\n",
    "c4=c1-c2\n",
    "print(c3.shownumber())\n",
    "print(c4.shownumber())\n",
    "\n"
   ]
  },
  {
   "cell_type": "code",
   "execution_count": null,
   "id": "3c20dc66",
   "metadata": {},
   "outputs": [],
   "source": []
  }
 ],
 "metadata": {
  "kernelspec": {
   "display_name": ".venv",
   "language": "python",
   "name": "python3"
  },
  "language_info": {
   "codemirror_mode": {
    "name": "ipython",
    "version": 3
   },
   "file_extension": ".py",
   "mimetype": "text/x-python",
   "name": "python",
   "nbconvert_exporter": "python",
   "pygments_lexer": "ipython3",
   "version": "3.13.2"
  }
 },
 "nbformat": 4,
 "nbformat_minor": 5
}
