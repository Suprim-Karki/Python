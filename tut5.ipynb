{
 "cells": [
  {
   "cell_type": "code",
   "execution_count": 9,
   "metadata": {},
   "outputs": [
    {
     "name": "stdout",
     "output_type": "stream",
     "text": [
      "[(2, 2), (5, 2)]\n"
     ]
    }
   ],
   "source": [
    "x = 100\n",
    "original_x = x  # Save the original value of x\n",
    "i = 2  # Start from 2 since 1 is not a prime factor\n",
    "factors_count = {}\n",
    "\n",
    "while x > 1:  # Continue until x is fully reduced to 1\n",
    "    if x % i == 0:  # Check if i is a factor of x\n",
    "        factors_count[i] = factors_count.get(i, 0) + 1  # Increment factor count\n",
    "        x = x // i  # Reduce x by dividing it by i\n",
    "    else:\n",
    "        i += 1  # Increment i to check the next factor\n",
    "\n",
    "# Prepare the list of factors as tuples\n",
    "factors_list = [(factor, count) for factor, count in factors_count.items()]\n",
    "\n",
    "# Display the factors\n",
    "print(factors_list)\n"
   ]
  },
  {
   "cell_type": "code",
   "execution_count": 1,
   "metadata": {},
   "outputs": [
    {
     "name": "stdout",
     "output_type": "stream",
     "text": [
      "even\n"
     ]
    }
   ],
   "source": [
    "def num(x):\n",
    "    if x%2==0:\n",
    "        return \"even\"\n",
    "    else:\n",
    "        return \"odd\"\n",
    "print(num(20))"
   ]
  },
  {
   "cell_type": "code",
   "execution_count": null,
   "metadata": {},
   "outputs": [
    {
     "name": "stdout",
     "output_type": "stream",
     "text": [
      "25\n",
      "7\n",
      "[2, 4, 6]\n",
      "[2, 4, 6, 8, 10, 12]\n"
     ]
    }
   ],
   "source": [
    "# Lambda function \n",
    "# lambda args : expression\n",
    "square = lambda x: x*x\n",
    "print(square(5))\n",
    "\n",
    "add = lambda a,b : a+b\n",
    "print(add(3,4))\n",
    "\n",
    "num=[1,2,3,4,5,6]\n",
    "evens = list(filter(lambda x :x % 2==0,num))\n",
    "print(evens)\n",
    "\n",
    "sq = list(map(lambda x: x * 2, num))\n",
    "print(sq)"
   ]
  },
  {
   "cell_type": "code",
   "execution_count": 13,
   "metadata": {},
   "outputs": [
    {
     "name": "stdout",
     "output_type": "stream",
     "text": [
      "120\n",
      "34\n",
      "False\n"
     ]
    }
   ],
   "source": [
    "# Recursive Function \n",
    "def fact(x):\n",
    "    if x==0 or x==1:\n",
    "        return 1\n",
    "    else:\n",
    "        return x*fact(x-1)\n",
    "print(fact(5))\n",
    "\n",
    "def fibo(x):\n",
    "    if x==0:\n",
    "        return 0\n",
    "    if x==1: \n",
    "        return 1\n",
    "    else:\n",
    "        return fibo(x-1)+fibo(x-2)\n",
    "print(fibo(9))\n",
    "\n",
    "def check_prime(x):\n",
    "    if x==1:\n",
    "        return \"Unity\"\n",
    "    for i in range(2,x):\n",
    "        if(x%i==0):\n",
    "            return False\n",
    "    return True\n",
    "print(check_prime(10))"
   ]
  },
  {
   "cell_type": "code",
   "execution_count": 1,
   "metadata": {},
   "outputs": [
    {
     "data": {
      "text/plain": [
       "5"
      ]
     },
     "execution_count": 1,
     "metadata": {},
     "output_type": "execute_result"
    }
   ],
   "source": [
    "def mystery(n) :\n",
    "    if n <= 0 :\n",
    "        return 0\n",
    "    else:   \n",
    "        return mystery(n // 2) + 1\n",
    "mystery(20)"
   ]
  },
  {
   "cell_type": "code",
   "execution_count": null,
   "metadata": {},
   "outputs": [
    {
     "data": {
      "text/plain": [
       "39.0"
      ]
     },
     "execution_count": 3,
     "metadata": {},
     "output_type": "execute_result"
    }
   ],
   "source": [
    "import math\n",
    "def f(x) :\n",
    "    return g(x) + math.sqrt(h(x))\n",
    "def g(x) :\n",
    "    return 4 * h(x)\n",
    "def h(x) :\n",
    "    return x * x + k(x) - 1\n",
    "def k(x) :\n",
    "    return 2 * (x + 1)\n",
    "f(2) "
   ]
  },
  {
   "cell_type": "code",
   "execution_count": null,
   "metadata": {},
   "outputs": [],
   "source": []
  }
 ],
 "metadata": {
  "kernelspec": {
   "display_name": "Python 3",
   "language": "python",
   "name": "python3"
  },
  "language_info": {
   "codemirror_mode": {
    "name": "ipython",
    "version": 3
   },
   "file_extension": ".py",
   "mimetype": "text/x-python",
   "name": "python",
   "nbconvert_exporter": "python",
   "pygments_lexer": "ipython3",
   "version": "3.13.1"
  }
 },
 "nbformat": 4,
 "nbformat_minor": 2
}
