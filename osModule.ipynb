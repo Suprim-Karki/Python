{
 "cells": [
  {
   "cell_type": "code",
   "execution_count": null,
   "id": "24998170",
   "metadata": {},
   "outputs": [
    {
     "name": "stdout",
     "output_type": "stream",
     "text": [
      "nt\n",
      "c:\\Users\\Hamro Computers\\Pictures\\TWC\\Programming\\Tutorial\n",
      "['.venv', 'buttonfunctionality.py', 'customlabel.py', 'cw1.py', 'firstgui.py', 'frameeg.py', 'grid.py', 'lol.jpg', 'lol.py', 'New', 'osModule.ipynb', 'secondgui.py', 'styling1.py', 'thinking.png', 'thirdgui.py', 'ttkStyles.py', 'tut3.py', 'tut4.ipynb', 'tut5.ipynb', 'tut7.ipynb', 'watcher.py', 'week 7.py']\n"
     ]
    },
    {
     "ename": "OSError",
     "evalue": "[WinError 145] The directory is not empty: 'New'",
     "output_type": "error",
     "traceback": [
      "\u001b[31m---------------------------------------------------------------------------\u001b[39m",
      "\u001b[31mOSError\u001b[39m                                   Traceback (most recent call last)",
      "\u001b[36mCell\u001b[39m\u001b[36m \u001b[39m\u001b[32mIn[21]\u001b[39m\u001b[32m, line 8\u001b[39m\n\u001b[32m      4\u001b[39m \u001b[38;5;28mprint\u001b[39m(os.listdir())\n\u001b[32m      5\u001b[39m \u001b[38;5;66;03m# os.mkdir(\"New\")  #To create a new folder\u001b[39;00m\n\u001b[32m      6\u001b[39m \u001b[38;5;66;03m# os.chdir(\"Tutorial\")  # To change directory\u001b[39;00m\n\u001b[32m      7\u001b[39m \u001b[38;5;66;03m# os.chdir(\"..\") #To go back in directory\u001b[39;00m\n\u001b[32m----> \u001b[39m\u001b[32m8\u001b[39m \u001b[43mos\u001b[49m\u001b[43m.\u001b[49m\u001b[43mrmdir\u001b[49m\u001b[43m(\u001b[49m\u001b[33;43m'\u001b[39;49m\u001b[33;43mNew\u001b[39;49m\u001b[33;43m'\u001b[39;49m\u001b[43m)\u001b[49m\n",
      "\u001b[31mOSError\u001b[39m: [WinError 145] The directory is not empty: 'New'"
     ]
    }
   ],
   "source": [
    "import os\n",
    "print(os.name)\n",
    "print(os.getcwd())\n",
    "print(os.listdir())\n",
    "# os.mkdir(\"New\")  #To create a new folder\n",
    "# os.chdir(\"Tutorial\")  # To change directory\n",
    "# os.chdir(\"..\") #To go back in directory\n",
    "# os.rmdir('New')\n",
    "# os.makedirs(\"parent/child\") #To create nested folder\n",
    "\n",
    "\n"
   ]
  },
  {
   "cell_type": "code",
   "execution_count": null,
   "id": "5f26fb27",
   "metadata": {},
   "outputs": [
    {
     "data": {
      "text/plain": [
       "'.venv'"
      ]
     },
     "execution_count": 6,
     "metadata": {},
     "output_type": "execute_result"
    }
   ],
   "source": []
  },
  {
   "cell_type": "code",
   "execution_count": null,
   "id": "c00ec068",
   "metadata": {},
   "outputs": [],
   "source": []
  }
 ],
 "metadata": {
  "kernelspec": {
   "display_name": ".venv",
   "language": "python",
   "name": "python3"
  },
  "language_info": {
   "codemirror_mode": {
    "name": "ipython",
    "version": 3
   },
   "file_extension": ".py",
   "mimetype": "text/x-python",
   "name": "python",
   "nbconvert_exporter": "python",
   "pygments_lexer": "ipython3",
   "version": "3.13.2"
  }
 },
 "nbformat": 4,
 "nbformat_minor": 5
}
