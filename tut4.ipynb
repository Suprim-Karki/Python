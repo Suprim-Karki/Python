{
 "cells": [
  {
   "cell_type": "code",
   "execution_count": null,
   "metadata": {},
   "outputs": [
    {
     "name": "stdout",
     "output_type": "stream",
     "text": [
      " This is a milti line string,\n",
      "dhjgdhsdgjsdhjhd\n"
     ]
    }
   ],
   "source": [
    "s1 = ''' This is a milti line string,\n",
    "dhjgdhsdgjsdhjhd'''\n",
    "print(s1)"
   ]
  },
  {
   "cell_type": "code",
   "execution_count": null,
   "metadata": {},
   "outputs": [
    {
     "name": "stdout",
     "output_type": "stream",
     "text": [
      "Original String: Hello world! How are YOU?\n",
      "Splitted String: ['HELLO', 'world!', 'How', 'are', 'you?']\n",
      "New String: HELLO world! How are you?\n"
     ]
    }
   ],
   "source": [
    "# 2nd qn\n",
    "\n",
    "original_string = \"Hello world! How are YOU?\"\n",
    "splitted = original_string.split(\" \")\n",
    "splitted[0] = splitted[0].upper()\n",
    "splitted[-1]=splitted[-1].lower()\n",
    "combined = (\" \").join(splitted)\n",
    "print(f\"Original String: {original_string}\")\n",
    "print(f\"Splitted String: {splitted}\")\n",
    "print(f\"New String: {combined}\")\n"
   ]
  },
  {
   "cell_type": "code",
   "execution_count": 1,
   "metadata": {},
   "outputs": [
    {
     "name": "stdout",
     "output_type": "stream",
     "text": [
      "[0, 1, 4, 9, 16, 25, 36, 49, 64, 81, 100]\n"
     ]
    }
   ],
   "source": [
    "mySquares = []\n",
    "for i in range(11):\n",
    "    mySquares.append(i**2)\n",
    "print(mySquares)"
   ]
  },
  {
   "cell_type": "code",
   "execution_count": 2,
   "metadata": {},
   "outputs": [
    {
     "name": "stdout",
     "output_type": "stream",
     "text": [
      "(12, 3, 12, 12, 21, 21, 21)\n"
     ]
    }
   ],
   "source": [
    "# Type conversion of tuple to list\n",
    "numbers= (12,12,12,12,21,21,21)\n",
    "temp_list=list(numbers)\n",
    "temp_list[1]=3\n",
    "numbers = tuple(temp_list)\n",
    "print(numbers)"
   ]
  },
  {
   "cell_type": "code",
   "execution_count": null,
   "metadata": {},
   "outputs": [
    {
     "name": "stdout",
     "output_type": "stream",
     "text": [
      "Ram 20 CS\n"
     ]
    }
   ],
   "source": [
    "# Packing and unpacking\n",
    "student=(\"Ram\",20,\"CS\")\n",
    "name,age,course=student\n",
    "print(name,age,course)"
   ]
  },
  {
   "cell_type": "code",
   "execution_count": 3,
   "metadata": {},
   "outputs": [
    {
     "name": "stdout",
     "output_type": "stream",
     "text": [
      "[(1, 3), (1, 4), (2, 3), (2, 1), (2, 4), (3, 1), (3, 4)]\n"
     ]
    }
   ],
   "source": [
    "#5\n",
    "\n",
    "nums = []\n",
    "for x in [1,2,3]:\n",
    "    for y in [3,1,4]:\n",
    "        if x!=y:\n",
    "            nums.append((x,y))\n",
    "print(nums)"
   ]
  },
  {
   "cell_type": "code",
   "execution_count": null,
   "metadata": {},
   "outputs": [],
   "source": [
    "#6. Create a program that will keep track of items for a shopping list. The program should start\n",
    "# with an empty list and keep asking for new items until nothing is entered (no input followed by\n",
    "# enter/return key). The program should then display full shopping list.\n",
    "\n",
    "list=[]\n",
    "while True:\n",
    "    item = input(\"Enter an item: \")\n",
    "    if item==\"\":\n",
    "        break\n",
    "    list.append(item)\n",
    "print(list)"
   ]
  },
  {
   "cell_type": "code",
   "execution_count": 3,
   "metadata": {},
   "outputs": [
    {
     "name": "stdout",
     "output_type": "stream",
     "text": [
      "[2, 4, 6, 8, 10]\n"
     ]
    }
   ],
   "source": [
    "# 7 myNumbers = [ 1,2,3,4,5,6,7,8,9,10], create a new list even_numbers by checking if\n",
    "# every number in MyNumbers is even, and if so, add it to the list of even_numbers. Print\n",
    "# even_numbers to check your code\n",
    "\n",
    "myNumbers = [ 1,2,3,4,5,6,7,8,9,10]\n",
    "even_numbers=[]\n",
    "for i in myNumbers:\n",
    "    if i%2==0:\n",
    "        even_numbers.append(i)\n",
    "print(even_numbers)"
   ]
  },
  {
   "cell_type": "code",
   "execution_count": 10,
   "metadata": {},
   "outputs": [
    {
     "name": "stdout",
     "output_type": "stream",
     "text": [
      "C++ is in 2 index\n"
     ]
    }
   ],
   "source": [
    "# 8. myLanguages = ['Python', 'Java', 'C++', 'JavaScript', 'Ruby'], write code to find the index\n",
    "# of ‘C++’ using a for loop\n",
    "\n",
    "myLanguages = ['Python', 'Java', 'C++', 'JavaScript', 'Ruby']\n",
    "n=0\n",
    "for i in myLanguages:\n",
    "    if i==\"C++\":\n",
    "        print(f\"C++ is in {n} index\")\n",
    "        break\n",
    "    n+=1"
   ]
  },
  {
   "cell_type": "markdown",
   "metadata": {},
   "source": []
  },
  {
   "cell_type": "code",
   "execution_count": 12,
   "metadata": {},
   "outputs": [
    {
     "name": "stdout",
     "output_type": "stream",
     "text": [
      "Minimum is 5\n",
      "Maximum is 10\n",
      "Average is 4.67\n",
      "Range is 5-10\n",
      "Sum is 28\n"
     ]
    }
   ],
   "source": [
    "# 9 Find and print the minimum, maximum, average, range, and sum of elements in a list\n",
    "# using while loop and if statement: numbers = [5, 8, 2, 10, 3, 6]\n",
    "\n",
    "numbers = [5, 8, 2, 10, 3, 6]\n",
    "minimum=numbers[0]\n",
    "maximum=numbers[0]\n",
    "average=0\n",
    "range=0\n",
    "sum=0\n",
    "i=0\n",
    "while i<len(numbers)-1:\n",
    "    if minimum>numbers[i]:\n",
    "        minimumn=numbers[i]\n",
    "    if maximum<numbers[i]:\n",
    "        maximum=numbers[i]\n",
    "    sum+=numbers[i]\n",
    "    i+=1\n",
    "print(f\"Minimum is {minimum}\")\n",
    "print(f\"Maximum is {maximum}\")\n",
    "print(f\"Average is {sum/len(numbers):.2f}\")\n",
    "print(f\"Range is {minimum}-{maximum}\")\n",
    "print(f\"Sum is {sum}\")\n",
    "\n"
   ]
  },
  {
   "cell_type": "code",
   "execution_count": null,
   "metadata": {},
   "outputs": [],
   "source": []
  }
 ],
 "metadata": {
  "kernelspec": {
   "display_name": ".venv",
   "language": "python",
   "name": "python3"
  },
  "language_info": {
   "codemirror_mode": {
    "name": "ipython",
    "version": 3
   },
   "file_extension": ".py",
   "mimetype": "text/x-python",
   "name": "python",
   "nbconvert_exporter": "python",
   "pygments_lexer": "ipython3",
   "version": "3.13.2"
  }
 },
 "nbformat": 4,
 "nbformat_minor": 2
}
